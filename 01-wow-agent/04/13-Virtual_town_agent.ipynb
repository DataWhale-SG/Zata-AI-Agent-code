{
 "cells": [
  {
   "cell_type": "code",
   "execution_count": 1,
   "metadata": {},
   "outputs": [
    {
     "ename": "SyntaxError",
     "evalue": "unterminated string literal (detected at line 9) (1956721016.py, line 9)",
     "output_type": "error",
     "traceback": [
      "\u001b[1;36m  Cell \u001b[1;32mIn[1], line 9\u001b[1;36m\u001b[0m\n\u001b[1;33m    env=StanfordTownExtEnv(maze_asset_path=\"/path/to/MAZE_ASSET_PATH)\u001b[0m\n\u001b[1;37m                                           ^\u001b[0m\n\u001b[1;31mSyntaxError\u001b[0m\u001b[1;31m:\u001b[0m unterminated string literal (detected at line 9)\n"
     ]
    }
   ],
   "source": [
    "from metagpt.environment.stanford_town.stanford_town_ext_env import StanfordTownExtEnv\n",
    "from metagpt.environment.stanford_town.env_space import (\n",
    "    EnvAction,\n",
    "    EnvActionType,\n",
    "    EnvObsParams,\n",
    "    EnvObsType,\n",
    ")\n",
    "from metagpt.ext.stanford_town.utils.const.const import MAZE_ASSET_PATH\n",
    "env=StanfordTownExtEnv(maze_asset_path=\"/path/to/MAZE_ASSET_PATH)"
   ]
  },
  {
   "cell_type": "code",
   "execution_count": 2,
   "metadata": {},
   "outputs": [
    {
     "ename": "NameError",
     "evalue": "name 'env' is not defined",
     "output_type": "error",
     "traceback": [
      "\u001b[1;31m---------------------------------------------------------------------------\u001b[0m",
      "\u001b[1;31mNameError\u001b[0m                                 Traceback (most recent call last)",
      "Cell \u001b[1;32mIn[2], line 1\u001b[0m\n\u001b[1;32m----> 1\u001b[0m obs, _ \u001b[38;5;241m=\u001b[39m \u001b[43menv\u001b[49m\u001b[38;5;241m.\u001b[39mreset()  \u001b[38;5;66;03m# 得到完整观察值\u001b[39;00m\n\u001b[0;32m      2\u001b[0m path_tiles\u001b[38;5;241m=\u001b[39menv\u001b[38;5;241m.\u001b[39mobserve(EnvObsParams(obs_type\u001b[38;5;241m=\u001b[39mEnvObsType\u001b[38;5;241m.\u001b[39mTILE_PATH, coord\u001b[38;5;241m=\u001b[39m(\u001b[38;5;241m72\u001b[39m, \u001b[38;5;241m14\u001b[39m)))\u001b[38;5;66;03m#可以查看当前坐标地址，如可以发现伊莎贝拉初始在自己公寓的主卧床上\u001b[39;00m\n\u001b[0;32m      3\u001b[0m get_titles\u001b[38;5;241m=\u001b[39menv\u001b[38;5;241m.\u001b[39mobserve(EnvObsParams(obs_type\u001b[38;5;241m=\u001b[39mEnvObsType\u001b[38;5;241m.\u001b[39mGET_TITLE, coord\u001b[38;5;241m=\u001b[39m(\u001b[38;5;241m72\u001b[39m, \u001b[38;5;241m14\u001b[39m)))\u001b[38;5;66;03m#可以查看当前坐标的详细观察值\u001b[39;00m\n",
      "\u001b[1;31mNameError\u001b[0m: name 'env' is not defined"
     ]
    }
   ],
   "source": [
    "obs, _ = env.reset()  # 得到完整观察值\n",
    "path_tiles=env.observe(EnvObsParams(obs_type=EnvObsType.TILE_PATH, coord=(72, 14)))#可以查看当前坐标地址，如可以发现伊莎贝拉初始在自己公寓的主卧床上\n",
    "get_titles=env.observe(EnvObsParams(obs_type=EnvObsType.GET_TITLE, coord=(72, 14)))#可以查看当前坐标的详细观察值\n",
    "nearby_tiles = env.observe(\n",
    "    EnvObsParams(\n",
    "        obs_type=EnvObsType.TILE_NBR, coord=(72, 14), vision_radius=10\n",
    "    )\n",
    ")  # 得到局部观察值，当前位置(200, 300)视野内的其他网格信息"
   ]
  },
  {
   "cell_type": "code",
   "execution_count": 3,
   "metadata": {},
   "outputs": [
    {
     "ename": "NameError",
     "evalue": "name 'EnvAction' is not defined",
     "output_type": "error",
     "traceback": [
      "\u001b[1;31m---------------------------------------------------------------------------\u001b[0m",
      "\u001b[1;31mNameError\u001b[0m                                 Traceback (most recent call last)",
      "Cell \u001b[1;32mIn[3], line 1\u001b[0m\n\u001b[1;32m----> 1\u001b[0m action \u001b[38;5;241m=\u001b[39m \u001b[43mEnvAction\u001b[49m(action_type\u001b[38;5;241m=\u001b[39mEnvActionType\u001b[38;5;241m.\u001b[39mRM_TITLE_SUB_EVENT, coord\u001b[38;5;241m=\u001b[39m(\u001b[38;5;241m72\u001b[39m, \u001b[38;5;241m14\u001b[39m), subject\u001b[38;5;241m=\u001b[39m\u001b[38;5;124m\"\u001b[39m\u001b[38;5;124mIsabella Rodriguez\u001b[39m\u001b[38;5;124m\"\u001b[39m)  \u001b[38;5;66;03m# 初始化一组动作值，删除指定位置主语为subject的事件,事件event=[\"the Ville:Isabella Rodriguez's apartment:main room:bed\",\"Isabella Rodriguez\",\"is\",\"sleep\"]\u001b[39;00m\n\u001b[0;32m      2\u001b[0m obs, _, _, _, info \u001b[38;5;241m=\u001b[39m env\u001b[38;5;241m.\u001b[39mstep(action)  \u001b[38;5;66;03m# 执行动作并得到新的完整观察\u001b[39;00m\n",
      "\u001b[1;31mNameError\u001b[0m: name 'EnvAction' is not defined"
     ]
    }
   ],
   "source": [
    "action = EnvAction(action_type=EnvActionType.RM_TITLE_SUB_EVENT, coord=(72, 14), subject=\"Isabella Rodriguez\")  # 初始化一组动作值，删除指定位置主语为subject的事件,事件event=[\"the Ville:Isabella Rodriguez's apartment:main room:bed\",\"Isabella Rodriguez\",\"is\",\"sleep\"]\n",
    "obs, _, _, _, info = env.step(action)  # 执行动作并得到新的完整观察"
   ]
  },
  {
   "cell_type": "code",
   "execution_count": null,
   "metadata": {},
   "outputs": [],
   "source": []
  }
 ],
 "metadata": {
  "kernelspec": {
   "display_name": "aiagent",
   "language": "python",
   "name": "python3"
  },
  "language_info": {
   "codemirror_mode": {
    "name": "ipython",
    "version": 3
   },
   "file_extension": ".py",
   "mimetype": "text/x-python",
   "name": "python",
   "nbconvert_exporter": "python",
   "pygments_lexer": "ipython3",
   "version": "3.10.16"
  }
 },
 "nbformat": 4,
 "nbformat_minor": 2
}
