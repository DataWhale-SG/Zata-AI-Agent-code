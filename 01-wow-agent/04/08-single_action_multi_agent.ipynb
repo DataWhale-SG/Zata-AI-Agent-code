{
 "cells": [
  {
   "cell_type": "code",
   "execution_count": 2,
   "metadata": {},
   "outputs": [],
   "source": [
    "import re\n",
    "from metagpt.actions import Action, UserRequirement\n",
    "\n",
    "# 构造写代码的动作\n",
    "\n",
    "def parse_code(rsp):\n",
    "    pattern = r\"```python(.*)```\"\n",
    "    match = re.search(pattern, rsp, re.DOTALL)\n",
    "    code_text = match.group(1) if match else rsp\n",
    "    return code_text\n",
    "\n",
    "\n",
    "class SimpleWriteCode(Action):\n",
    "    PROMPT_TEMPLATE: str = \"\"\"\n",
    "    Write a python function that can {instruction}.\n",
    "    Return ```python your_code_here ```with NO other texts,\n",
    "    your code:\n",
    "    \"\"\"\n",
    "    name: str = \"SimpleWriteCode\"\n",
    "\n",
    "    async def run(self, instruction: str):\n",
    "        prompt = self.PROMPT_TEMPLATE.format(instruction=instruction)\n",
    "\n",
    "        rsp = await self._aask(prompt)\n",
    "\n",
    "        code_text = parse_code(rsp)\n",
    "\n",
    "        return code_text"
   ]
  },
  {
   "cell_type": "code",
   "execution_count": 3,
   "metadata": {},
   "outputs": [],
   "source": [
    "# 构造写测试样例的动作\n",
    "class SimpleWriteTest(Action):\n",
    "    PROMPT_TEMPLATE: str = \"\"\"\n",
    "    Context: {context}\n",
    "    Write {k} unit tests using pytest for the given function, assuming you have imported it.\n",
    "    Return ```python your_code_here ```with NO other texts,\n",
    "    your code:\n",
    "    \"\"\"\n",
    "\n",
    "    name: str = \"SimpleWriteTest\"\n",
    "\n",
    "    async def run(self, context: str, k: int = 3):\n",
    "        prompt = self.PROMPT_TEMPLATE.format(context=context, k=k)\n",
    "\n",
    "        rsp = await self._aask(prompt)\n",
    "\n",
    "        code_text = parse_code(rsp)\n",
    "\n",
    "        return code_text"
   ]
  },
  {
   "cell_type": "code",
   "execution_count": 4,
   "metadata": {},
   "outputs": [],
   "source": [
    "# 构造审查代码的动作\n",
    "class SimpleWriteReview(Action):\n",
    "    PROMPT_TEMPLATE: str = \"\"\"\n",
    "    Context: {context}\n",
    "    Review the test cases and provide one critical comments:\n",
    "    \"\"\"\n",
    "\n",
    "    name: str = \"SimpleWriteReview\"\n",
    "\n",
    "    async def run(self, context: str):\n",
    "        prompt = self.PROMPT_TEMPLATE.format(context=context)\n",
    "\n",
    "        rsp = await self._aask(prompt)\n",
    "\n",
    "        return rsp\n",
    "                "
   ]
  },
  {
   "cell_type": "code",
   "execution_count": 5,
   "metadata": {},
   "outputs": [],
   "source": [
    "# 构造写代码的角色\n",
    "from metagpt.roles import Role\n",
    "class SimpleCoder(Role):\n",
    "    name: str = \"Alice\"\n",
    "    profile: str = \"SimpleCoder\"\n",
    "\n",
    "    def __init__(self, **kwargs):\n",
    "        super().__init__(**kwargs)\n",
    "        self._watch([UserRequirement])\n",
    "        self.set_actions([SimpleWriteCode])"
   ]
  },
  {
   "cell_type": "code",
   "execution_count": 6,
   "metadata": {},
   "outputs": [],
   "source": [
    "from metagpt.logs import logger\n",
    "from metagpt.schema import Message\n",
    "\n",
    "class SimpleTester(Role):\n",
    "    name: str = \"Bob\"\n",
    "    profile: str = \"SimpleTester\"\n",
    "\n",
    "    def __init__(self, **kwargs):\n",
    "        super().__init__(**kwargs)\n",
    "        self.set_actions([SimpleWriteTest])\n",
    "        self._watch([SimpleWriteCode])\n",
    "        # self._watch([SimpleWriteCode, SimpleWriteReview])  # feel free to try this too\n",
    "\n",
    "    async def _act(self) -> Message:\n",
    "        logger.info(f\"{self._setting}: to do {self.rc.todo}({self.rc.todo.name})\")\n",
    "        todo = self.rc.todo\n",
    "\n",
    "        # context = self.get_memories(k=1)[0].content # use the most recent memory as context\n",
    "        context = self.get_memories()  # use all memories as context\n",
    "\n",
    "        code_text = await todo.run(context, k=5)  # specify arguments\n",
    "        msg = Message(content=code_text, role=self.profile, cause_by=type(todo))\n",
    "\n",
    "        return msg"
   ]
  },
  {
   "cell_type": "code",
   "execution_count": 8,
   "metadata": {},
   "outputs": [],
   "source": [
    "# 按照相同的过程定义 SimpleReviewer：\n",
    "class SimpleReviewer(Role):\n",
    "    name: str = \"Charlie\"\n",
    "    profile: str = \"SimpleReviewer\"\n",
    "\n",
    "    def __init__(self, **kwargs):\n",
    "        super().__init__(**kwargs)\n",
    "        self.set_actions([SimpleWriteReview])\n",
    "        self._watch([SimpleWriteTest])"
   ]
  },
  {
   "cell_type": "code",
   "execution_count": 9,
   "metadata": {},
   "outputs": [
    {
     "name": "stderr",
     "output_type": "stream",
     "text": [
      "2025-02-19 21:46:45.687 | INFO     | __main__:main:9 - write a function that calculates the product of a list\n",
      "2025-02-19 21:46:45.966 | INFO     | metagpt.team:invest:90 - Investment: $3.0.\n",
      "2025-02-19 21:46:45.969 | INFO     | metagpt.roles.role:_act:391 - Alice(SimpleCoder): to do SimpleWriteCode(SimpleWriteCode)\n"
     ]
    },
    {
     "name": "stdout",
     "output_type": "stream",
     "text": [
      "```python\n",
      "def product_of_list(lst):\n",
      "    product = 1\n",
      "    for num in lst:\n",
      "        product *= num\n",
      "    return product\n",
      "```"
     ]
    },
    {
     "name": "stderr",
     "output_type": "stream",
     "text": [
      "2025-02-19 21:46:47.299 | WARNING  | metagpt.utils.cost_manager:update_cost:49 - Model glm-4-flash not found in TOKEN_COSTS.\n",
      "2025-02-19 21:46:47.303 | INFO     | __main__:_act:15 - Bob(SimpleTester): to do SimpleWriteTest(SimpleWriteTest)\n"
     ]
    },
    {
     "name": "stdout",
     "output_type": "stream",
     "text": [
      "\n",
      "```python\n",
      "def test_product_of_list_empty():\n",
      "    assert product_of_list([]) == 1\n",
      "\n",
      "def test_product_of_list_single_element():\n",
      "    assert product_of_list([5]) == 5\n",
      "\n",
      "def test_product_of_list_positive_numbers():\n",
      "    assert product_of_list([1, 2, 3, 4]) == 24\n",
      "\n",
      "def test_product_of_list_negative_numbers():\n",
      "    assert product_of_list([-1, -2, -3, -4]) == -24\n",
      "\n",
      "def test_product_of_list_mixed_numbers():\n",
      "    assert product_of_list([-1, 2, -3, 4]) == 24\n",
      "```"
     ]
    },
    {
     "name": "stderr",
     "output_type": "stream",
     "text": [
      "2025-02-19 21:46:52.065 | WARNING  | metagpt.utils.cost_manager:update_cost:49 - Model glm-4-flash not found in TOKEN_COSTS.\n",
      "2025-02-19 21:46:52.068 | INFO     | metagpt.roles.role:_act:391 - Charlie(SimpleReviewer): to do SimpleWriteReview(SimpleWriteReview)\n"
     ]
    },
    {
     "name": "stdout",
     "output_type": "stream",
     "text": [
      "\n",
      "Critical Comment:\n",
      "\n",
      "While the test cases cover a range of scenarios, including empty lists, single elements, positive numbers, negative numbers, and a mix of both, there is a potential oversight in the test suite. Specifically, the absence of a test case for a list containing zero is notable. Since the product of any number with zero is zero, it's important to ensure that the function correctly handles this edge case. Adding a test for this scenario would enhance the robustness of the test suite. Here's a suggested addition:\n",
      "\n",
      "```python\n",
      "def test_product_of_list_with_zero():\n",
      "    assert product_of_list([0, 1, 2, 3]) == 0\n",
      "```"
     ]
    },
    {
     "name": "stderr",
     "output_type": "stream",
     "text": [
      "2025-02-19 21:46:55.845 | WARNING  | metagpt.utils.cost_manager:update_cost:49 - Model glm-4-flash not found in TOKEN_COSTS.\n"
     ]
    },
    {
     "name": "stdout",
     "output_type": "stream",
     "text": [
      "\n"
     ]
    }
   ],
   "source": [
    "import asyncio\n",
    "from metagpt.team import Team\n",
    "\n",
    "async def main(\n",
    "    idea: str = \"write a function that calculates the product of a list\",\n",
    "    investment: float = 3.0,\n",
    "    n_round: int = 5,\n",
    "):\n",
    "    logger.info(idea)\n",
    "\n",
    "    team = Team()\n",
    "    team.hire(\n",
    "        [\n",
    "            SimpleCoder(),\n",
    "            SimpleTester(),\n",
    "            SimpleReviewer(),\n",
    "        ]\n",
    "    )\n",
    "\n",
    "    team.invest(investment=investment)\n",
    "    team.run_project(idea)\n",
    "    await team.run(n_round=n_round)\n",
    "await main()"
   ]
  },
  {
   "cell_type": "code",
   "execution_count": 10,
   "metadata": {},
   "outputs": [],
   "source": [
    "def calculate_product(numbers):\n",
    "    product = 1\n",
    "    for number in numbers:\n",
    "        product *= number\n",
    "    return product"
   ]
  },
  {
   "cell_type": "code",
   "execution_count": 11,
   "metadata": {},
   "outputs": [],
   "source": [
    "def calculate_product(numbers):\n",
    "    product = 1\n",
    "    for number in numbers:\n",
    "        product *= number\n",
    "    return product"
   ]
  },
  {
   "cell_type": "code",
   "execution_count": null,
   "metadata": {},
   "outputs": [],
   "source": []
  }
 ],
 "metadata": {
  "kernelspec": {
   "display_name": "aiagent",
   "language": "python",
   "name": "python3"
  },
  "language_info": {
   "codemirror_mode": {
    "name": "ipython",
    "version": 3
   },
   "file_extension": ".py",
   "mimetype": "text/x-python",
   "name": "python",
   "nbconvert_exporter": "python",
   "pygments_lexer": "ipython3",
   "version": "3.10.16"
  }
 },
 "nbformat": 4,
 "nbformat_minor": 2
}
