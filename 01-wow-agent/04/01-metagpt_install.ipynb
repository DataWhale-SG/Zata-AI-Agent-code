{
 "cells": [
  {
   "cell_type": "markdown",
   "metadata": {},
   "source": [
    "## 安装"
   ]
  },
  {
   "cell_type": "code",
   "execution_count": null,
   "metadata": {},
   "outputs": [],
   "source": [
    "%pip install --upgrade metagpt"
   ]
  },
  {
   "cell_type": "markdown",
   "metadata": {},
   "source": [
    "## metagpt需要配置模型的api\n",
    "在当前工作目录中创建一个名为config的文件夹，并在其中添加一个名为config2.yaml的新文件。\n",
    "\n",
    "这里以智谱ai为例\n",
    "\n",
    "```\n",
    "# config/config2.yaml\n",
    "llm:\n",
    "  api_type: 'zhipuai'\n",
    "  api_key: 'YOUR_API_KEY'\n",
    "  model: 'glm-4-flash'\n",
    "```"
   ]
  },
  {
   "cell_type": "markdown",
   "metadata": {},
   "source": [
    "## 检测是否配置成功，运行代码一或者代码二均可"
   ]
  },
  {
   "cell_type": "code",
   "execution_count": 1,
   "metadata": {},
   "outputs": [
    {
     "name": "stderr",
     "output_type": "stream",
     "text": [
      "2025-02-17 23:02:30.902 | INFO     | metagpt.const:get_metagpt_package_root:29 - Package root set to c:\\Users\\zata\\Desktop\\wow\\01-wow-agent\\04\n"
     ]
    },
    {
     "name": "stdout",
     "output_type": "stream",
     "text": [
      "API类型: LLMType.ZHIPUAI\n",
      "API密钥: d87bb8dbfc854c3dbc3edea867ca033e.3qCM41HN3pR7XG4T\n",
      "模型: glm-4-falsh\n"
     ]
    }
   ],
   "source": [
    "# 代码一\n",
    "\n",
    "from metagpt.config2 import Config \n",
    "def print_llm_config():\n",
    "    # 加载默认配置\n",
    "    config = Config.default()\n",
    "\n",
    "    # 获取LLM配置\n",
    "    llm_config = config.llm\n",
    "    # 打印LLM配置的详细信息\n",
    "    if llm_config:\n",
    "        print(f\"API类型: {llm_config.api_type}\")\n",
    "        print(f\"API密钥: {llm_config.api_key}\")\n",
    "        print(f\"模型: {llm_config.model}\")\n",
    "    else:\n",
    "        print(\"没有配置LLM\")\n",
    "\n",
    "if __name__ == \"__main__\":\n",
    "    print_llm_config()"
   ]
  },
  {
   "cell_type": "code",
   "execution_count": 4,
   "metadata": {},
   "outputs": [],
   "source": [
    "# 代码二\n",
    "from metagpt.actions import Action"
   ]
  },
  {
   "cell_type": "code",
   "execution_count": null,
   "metadata": {},
   "outputs": [],
   "source": []
  },
  {
   "cell_type": "code",
   "execution_count": null,
   "metadata": {},
   "outputs": [],
   "source": []
  }
 ],
 "metadata": {
  "kernelspec": {
   "display_name": "aiagent",
   "language": "python",
   "name": "python3"
  },
  "language_info": {
   "codemirror_mode": {
    "name": "ipython",
    "version": 3
   },
   "file_extension": ".py",
   "mimetype": "text/x-python",
   "name": "python",
   "nbconvert_exporter": "python",
   "pygments_lexer": "ipython3",
   "version": "3.10.16"
  }
 },
 "nbformat": 4,
 "nbformat_minor": 2
}
