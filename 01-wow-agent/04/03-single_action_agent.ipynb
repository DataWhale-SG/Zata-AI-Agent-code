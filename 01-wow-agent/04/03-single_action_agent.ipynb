{
 "cells": [
  {
   "cell_type": "code",
   "execution_count": 6,
   "metadata": {},
   "outputs": [],
   "source": [
    "from metagpt.roles.product_manager import ProductManager\n",
    "from metagpt.actions import Action\n",
    "import re\n",
    "import os\n",
    "from metagpt.roles import Role\n",
    "from metagpt.schema import Message\n",
    "from metagpt.logs import logger"
   ]
  },
  {
   "cell_type": "code",
   "execution_count": 1,
   "metadata": {},
   "outputs": [
    {
     "name": "stderr",
     "output_type": "stream",
     "text": [
      "2025-02-17 11:42:31.076 | INFO     | metagpt.const:get_metagpt_package_root:29 - Package root set to c:\\Users\\zata\\Desktop\\wow\\01-wow-agent\\04\n",
      "2025-02-17 11:42:39.886 | INFO     | metagpt.roles.role:_act:391 - Alice(Product Manager): to do PrepareDocuments(PrepareDocuments)\n",
      "2025-02-17 11:42:40.395 | INFO     | metagpt.utils.file_repository:save:57 - save to: C:\\Users\\zata\\Desktop\\wow\\01-wow-agent\\04\\workspace\\20250217114239\\docs\\requirement.txt\n"
     ]
    }
   ],
   "source": [
    "# 可导入任何角色，初始化它，用一个开始的消息运行它，完成！\n",
    "\n",
    "prompt = f\"\"\"\n",
    "# Role：软件开发团队\n",
    "\n",
    "## Background :\n",
    "\n",
    "我是一个软件开发团队。\n",
    "现在要用html、js、vue3、element-plus开发一个刷题程序。\n",
    "刷题可以让人们对题目中涉及的知识点有更深的掌握。\n",
    "\n",
    "## Profile:\n",
    "- author: 黎伟\n",
    "- version: 0.1\n",
    "- language: 中文\n",
    "- description: 我是一软件开发团队。\n",
    "\n",
    "## Goals:\n",
    "- 用html、js、vue3、element-plus开发一个刷题程序的开发需求文档。\n",
    "\n",
    "## Constrains:\n",
    "1. 最后交付的程序是一个html单文件，不要有其他任何文件。\n",
    "2. 题目的题型至少包括两道判断题、两道选择题、两道填空题。\n",
    "3. 题目的内容与人工智能的agent基本理论相关。\n",
    "4. 刷题程序至少给出10道样例题目。\n",
    "5. 题目用列表的形式写到html文件的script部分。\n",
    "6. vue3、element-plus采用cdn的形式在html的header部分引入。\n",
    "\n",
    "## Skills:\n",
    "1. 具有强大的js语言开发能力\n",
    "2. 熟悉vue3、element-plus的使用\n",
    "3. 对人工智能的agent基本理论有较好理解\n",
    "4. 拥有排版审美, 会利用序号, 缩进, 分隔线和换行符等等来美化信息排版\n",
    "\n",
    "\n",
    "请结合上述要求完善刷题程序的开发需求文档。\n",
    "\"\"\"\n",
    "async def main():\n",
    "    role = ProductManager()\n",
    "    result = await role.run(prompt)\n",
    "    \n",
    "await main()"
   ]
  },
  {
   "cell_type": "code",
   "execution_count": 4,
   "metadata": {},
   "outputs": [
    {
     "name": "stdout",
     "output_type": "stream",
     "text": [
      "朝朝暮暮勤，筋骨渐疲惫。\n",
      "尘世多艰辛，谁解其中味。"
     ]
    },
    {
     "name": "stderr",
     "output_type": "stream",
     "text": [
      "2025-02-17 11:44:50.695 | WARNING  | metagpt.utils.cost_manager:update_cost:49 - Model glm-4-flash not found in TOKEN_COSTS.\n"
     ]
    },
    {
     "name": "stdout",
     "output_type": "stream",
     "text": [
      "\n",
      "朝朝暮暮勤，筋骨渐疲惫。\n",
      "尘世多艰辛，谁解其中味。\n"
     ]
    }
   ],
   "source": [
    "class TangPoem(Action):\n",
    "    PROMPT_TEMPLATE: str = \"\"\"\n",
    "    根据主题{msg}写一首五言绝句的唐诗。只返回生成诗的内容，不要有其他文字。\n",
    "    \"\"\"\n",
    "    async def run(self, msg: str):\n",
    "        prompt = self.PROMPT_TEMPLATE.format(msg = msg)\n",
    "        rsp = await self._aask(prompt)\n",
    "        return rsp\n",
    "tangshi = TangPoem()\n",
    "rst = await tangshi.run('写一首表达上班很辛苦的唐诗')\n",
    "print(rst)"
   ]
  },
  {
   "cell_type": "markdown",
   "metadata": {},
   "source": [
    "# 创建写代码智能体\n",
    "在 MetaGPT 中，Role 类是智能体的逻辑抽象。一个 Role 能执行特定的 Action，拥有记忆、思考并采用各种策略行动。基本上，它充当一个将所有这些组件联系在一起的凝聚实体。目前，让我们只关注一个执行动作的智能体，并看看如何定义一个最简单的 Role。\n",
    "\n",
    "在这个示例中，我们创建了一个 SimpleCoder，它能够根据人类的自然语言描述编写代码。步骤如下：\n",
    "\n",
    "我们为其指定一个名称和配置文件。\n",
    "我们使用 self._init_action 函数为其配备期望的动作 SimpleWriteCode。\n",
    "我们覆盖 _act 函数，其中包含智能体具体行动逻辑。我们写入，我们的智能体将从最新的记忆中获取人类指令，运行配备的动作，MetaGPT将其作为待办事项 (self.rc.todo) 在幕后处理，最后返回一个完整的消息。"
   ]
  },
  {
   "cell_type": "code",
   "execution_count": 7,
   "metadata": {},
   "outputs": [
    {
     "name": "stderr",
     "output_type": "stream",
     "text": [
      "2025-02-17 11:48:37.800 | INFO     | __main__:main:54 - write a function that calculates the sum of a list\n",
      "2025-02-17 11:48:37.805 | INFO     | __main__:_act:40 - Alice(SimpleCoder): to do SimpleWriteCode(SimpleWriteCode)\n"
     ]
    },
    {
     "name": "stdout",
     "output_type": "stream",
     "text": [
      "```python\n",
      "def sum_of_list(lst):\n",
      "    return sum(lst)\n",
      "\n",
      "# Test cases\n",
      "print(sum_of_list([1, 2, 3, 4]))  # Should return 10\n",
      "print(sum_of_list([5, 10, 15]))   # Should return 30\n",
      "```"
     ]
    },
    {
     "name": "stderr",
     "output_type": "stream",
     "text": [
      "2025-02-17 11:48:39.407 | WARNING  | metagpt.utils.cost_manager:update_cost:49 - Model glm-4-flash not found in TOKEN_COSTS.\n",
      "2025-02-17 11:48:39.416 | INFO     | __main__:main:56 - SimpleCoder: \n",
      "def sum_of_list(lst):\n",
      "    return sum(lst)\n",
      "\n",
      "# Test cases\n",
      "print(sum_of_list([1, 2, 3, 4]))  # Should return 10\n",
      "print(sum_of_list([5, 10, 15]))   # Should return 30\n",
      "\n"
     ]
    },
    {
     "name": "stdout",
     "output_type": "stream",
     "text": [
      "\n"
     ]
    }
   ],
   "source": [
    "from metagpt.actions import Action\n",
    "\n",
    "class SimpleWriteCode(Action):\n",
    "    PROMPT_TEMPLATE: str = \"\"\"\n",
    "    Write a python function that can {instruction} and provide two runnnable test cases.\n",
    "    Return ```python your_code_here ```with NO other texts,\n",
    "    your code:\n",
    "    \"\"\"\n",
    "\n",
    "    name: str = \"SimpleWriteCode\"\n",
    "\n",
    "    async def run(self, instruction: str):\n",
    "        prompt = self.PROMPT_TEMPLATE.format(instruction=instruction)\n",
    "\n",
    "        rsp = await self._aask(prompt)\n",
    "\n",
    "        code_text = SimpleWriteCode.parse_code(rsp)\n",
    "\n",
    "        return code_text\n",
    "\n",
    "    @staticmethod\n",
    "    def parse_code(rsp):\n",
    "        pattern = r\"```python(.*)```\"\n",
    "        match = re.search(pattern, rsp, re.DOTALL)\n",
    "        code_text = match.group(1) if match else rsp\n",
    "        return code_text\n",
    "\n",
    "\n",
    "\n",
    "\n",
    "class SimpleCoder(Role):\n",
    "    name: str = \"Alice\"\n",
    "    profile: str = \"SimpleCoder\"\n",
    "\n",
    "    def __init__(self, **kwargs):\n",
    "        super().__init__(**kwargs)\n",
    "        self.set_actions([SimpleWriteCode])\n",
    "\n",
    "    async def _act(self) -> Message:\n",
    "        logger.info(f\"{self._setting}: to do {self.rc.todo}({self.rc.todo.name})\")\n",
    "        todo = self.rc.todo  # todo will be SimpleWriteCode()\n",
    "\n",
    "        msg = self.get_memories(k=1)[0]  # find the most recent messages\n",
    "        code_text = await todo.run(msg.content)\n",
    "        msg = Message(content=code_text, role=self.profile, cause_by=type(todo))\n",
    "\n",
    "        return msg\n",
    "\n",
    "# 运行\n",
    "\n",
    "async def main():\n",
    "    msg = \"write a function that calculates the sum of a list\"\n",
    "    role = SimpleCoder()\n",
    "    logger.info(msg)\n",
    "    result = await role.run(msg)\n",
    "    logger.info(result)\n",
    "    return result\n",
    "    \n",
    "        \n",
    "rtn = await main()"
   ]
  }
 ],
 "metadata": {
  "kernelspec": {
   "display_name": "metagpt",
   "language": "python",
   "name": "python3"
  },
  "language_info": {
   "codemirror_mode": {
    "name": "ipython",
    "version": 3
   },
   "file_extension": ".py",
   "mimetype": "text/x-python",
   "name": "python",
   "nbconvert_exporter": "python",
   "pygments_lexer": "ipython3",
   "version": "3.10.16"
  }
 },
 "nbformat": 4,
 "nbformat_minor": 2
}
