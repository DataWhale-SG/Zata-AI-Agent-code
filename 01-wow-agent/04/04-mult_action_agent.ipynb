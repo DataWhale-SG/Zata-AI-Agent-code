{
 "cells": [
  {
   "cell_type": "code",
   "execution_count": null,
   "metadata": {},
   "outputs": [],
   "source": []
  },
  {
   "cell_type": "code",
   "execution_count": null,
   "metadata": {},
   "outputs": [],
   "source": [
    "我们注意到一个智能体能够执行一个动作，但如果只有这些，实际上我们并不需要一个智能体。通过直接运行动作本身，我们可以得到相同的结果。智能体的力量，或者说Role抽象的惊人之处，在于动作的组合（以及其他组件，比如记忆，但我们将把它们留到后面的部分）。通过连接动作，我们可以构建一个工作流程，使智能体能够完成更复杂的任务。\n",
    "\n",
    "假设现在我们不仅希望用自然语言编写代码，而且还希望生成的代码立即执行。一个拥有多个动作的智能体可以满足我们的需求。让我们称之为RunnableCoder，一个既写代码又立即运行的Role。我们需要两个Action：SimpleWriteCode 和 SimpleRunCode。"
   ]
  },
  {
   "cell_type": "code",
   "execution_count": 1,
   "metadata": {},
   "outputs": [
    {
     "name": "stderr",
     "output_type": "stream",
     "text": [
      "2025-02-17 11:52:36.641 | INFO     | metagpt.const:get_metagpt_package_root:29 - Package root set to c:\\Users\\zata\\Desktop\\wow\\01-wow-agent\\04\n"
     ]
    }
   ],
   "source": [
    "from metagpt.actions import Action"
   ]
  },
  {
   "cell_type": "markdown",
   "metadata": {},
   "source": [
    "# 定义动作"
   ]
  },
  {
   "cell_type": "code",
   "execution_count": 2,
   "metadata": {},
   "outputs": [],
   "source": [
    "# SimpleWriteCode 这个类与上一节一模一样\n",
    "\n",
    "\n",
    "\n",
    "class SimpleWriteCode(Action):\n",
    "    PROMPT_TEMPLATE: str = \"\"\"\n",
    "    Write a python function that can {instruction} and provide two runnnable test cases.\n",
    "    Return ```python your_code_here ```with NO other texts,\n",
    "    your code:\n",
    "    \"\"\"\n",
    "\n",
    "    name: str = \"SimpleWriteCode\"\n",
    "\n",
    "    async def run(self, instruction: str):\n",
    "        prompt = self.PROMPT_TEMPLATE.format(instruction=instruction)\n",
    "\n",
    "        rsp = await self._aask(prompt)\n",
    "\n",
    "        code_text = SimpleWriteCode.parse_code(rsp)\n",
    "\n",
    "        return code_text\n",
    "\n",
    "    @staticmethod\n",
    "    def parse_code(rsp):\n",
    "        pattern = r\"```python(.*)```\"\n",
    "        match = re.search(pattern, rsp, re.DOTALL)\n",
    "        code_text = match.group(1) if match else rsp\n",
    "        return code_text"
   ]
  },
  {
   "cell_type": "code",
   "execution_count": 3,
   "metadata": {},
   "outputs": [],
   "source": [
    "# 本节新增了SimpleRunCode这个类\n",
    "class SimpleRunCode(Action):\n",
    "    name: str = \"SimpleRunCode\"\n",
    "\n",
    "    async def run(self, code_text: str):\n",
    "        result = subprocess.run([\"python\", \"-c\", code_text], capture_output=True, text=True)\n",
    "        code_result = result.stdout\n",
    "        logger.info(f\"{code_result=}\")\n",
    "        return code_result"
   ]
  },
  {
   "cell_type": "markdown",
   "metadata": {},
   "source": [
    "# 定义角色"
   ]
  },
  {
   "cell_type": "code",
   "execution_count": 7,
   "metadata": {},
   "outputs": [],
   "source": [
    "import re\n",
    "import os\n",
    "import subprocess\n",
    "from metagpt.roles import Role\n",
    "from metagpt.schema import Message\n",
    "from metagpt.logs import logger\n",
    "class RunnableCoder(Role):\n",
    "    name: str = \"Alice\"\n",
    "    profile: str = \"RunnableCoder\"\n",
    "\n",
    "    def __init__(self, **kwargs):\n",
    "        super().__init__(**kwargs)\n",
    "        self.set_actions([SimpleWriteCode, SimpleRunCode])\n",
    "        self._set_react_mode(react_mode=\"by_order\")\n",
    "\n",
    "    async def _act(self) -> Message:\n",
    "        logger.info(f\"{self._setting}: to do {self.rc.todo}({self.rc.todo.name})\")\n",
    "        # By choosing the Action by order under the hood\n",
    "        # todo will be first SimpleWriteCode() then SimpleRunCode()\n",
    "        todo = self.rc.todo\n",
    "\n",
    "        msg = self.get_memories(k=1)[0]  # find the most k recent messages\n",
    "        result = await todo.run(msg.content)\n",
    "\n",
    "        msg = Message(content=result, role=self.profile, cause_by=type(todo))\n",
    "        self.rc.memory.add(msg)\n",
    "        return msg\n",
    "\n",
    "async def main():\n",
    "    msg = \"write a function that calculates the sum of a list\"\n",
    "    role = RunnableCoder()\n",
    "    logger.info(msg)\n",
    "    result = await role.run(msg)\n",
    "    logger.info(result)\n",
    "    return result\n",
    "\n"
   ]
  },
  {
   "cell_type": "code",
   "execution_count": 8,
   "metadata": {},
   "outputs": [
    {
     "name": "stderr",
     "output_type": "stream",
     "text": [
      "2025-02-17 11:54:14.161 | INFO     | __main__:main:32 - write a function that calculates the sum of a list\n",
      "2025-02-17 11:54:14.165 | INFO     | __main__:_act:17 - Alice(RunnableCoder): to do SimpleWriteCode(SimpleWriteCode)\n"
     ]
    },
    {
     "name": "stdout",
     "output_type": "stream",
     "text": [
      "```python\n",
      "def calculate_sum(numbers):\n",
      "    return sum(numbers)\n",
      "\n",
      "# Test cases\n",
      "def test_case_1():\n",
      "    assert calculate_sum([1, 2, 3, 4, 5]) == 15\n",
      "\n",
      "def test_case_2():\n",
      "    assert calculate_sum([10, -20, 30, -40, 50]) == 20"
     ]
    },
    {
     "name": "stderr",
     "output_type": "stream",
     "text": [
      "2025-02-17 11:54:16.407 | WARNING  | metagpt.utils.cost_manager:update_cost:49 - Model glm-4-flash not found in TOKEN_COSTS.\n",
      "2025-02-17 11:54:16.409 | INFO     | __main__:_act:17 - Alice(RunnableCoder): to do SimpleRunCode(SimpleRunCode)\n",
      "2025-02-17 11:54:16.466 | INFO     | __main__:run:36 - code_result=''\n",
      "2025-02-17 11:54:16.467 | INFO     | __main__:main:34 - RunnableCoder: \n"
     ]
    },
    {
     "name": "stdout",
     "output_type": "stream",
     "text": [
      "\n",
      "```\n",
      "RunnableCoder: \n"
     ]
    }
   ],
   "source": [
    "rtn = await main()\n",
    "print(rtn)"
   ]
  }
 ],
 "metadata": {
  "kernelspec": {
   "display_name": "metagpt",
   "language": "python",
   "name": "python3"
  },
  "language_info": {
   "codemirror_mode": {
    "name": "ipython",
    "version": 3
   },
   "file_extension": ".py",
   "mimetype": "text/x-python",
   "name": "python",
   "nbconvert_exporter": "python",
   "pygments_lexer": "ipython3",
   "version": "3.10.16"
  }
 },
 "nbformat": 4,
 "nbformat_minor": 2
}
