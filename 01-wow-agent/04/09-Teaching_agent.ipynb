{
 "cells": [
  {
   "cell_type": "code",
   "execution_count": 16,
   "metadata": {},
   "outputs": [],
   "source": [
    "import asyncio\n",
    "\n",
    "from metagpt.actions import Action, UserRequirement\n",
    "from metagpt.logs import logger\n",
    "from metagpt.roles import Role\n",
    "from metagpt.schema import Message\n",
    "from metagpt.environment import Environment\n",
    "\n",
    "from metagpt.const import MESSAGE_ROUTE_TO_ALL\n"
   ]
  },
  {
   "cell_type": "code",
   "execution_count": 17,
   "metadata": {},
   "outputs": [],
   "source": [
    "classroom = Environment()"
   ]
  },
  {
   "cell_type": "code",
   "execution_count": 18,
   "metadata": {},
   "outputs": [],
   "source": [
    "class WritePoem(Action):\n",
    "\n",
    "    name: str = \"WritePoem\"\n",
    "\n",
    "    PROMPT_TEMPLATE: str = \"\"\"\n",
    "    Here is the historical conversation record : {msg} .\n",
    "    Write a poem about the subject provided by human, Return only the content of the generated poem with NO other texts.\n",
    "    If the teacher provides suggestions about the poem, revise the student's poem based on the suggestions and return.\n",
    "    your poem:\n",
    "    \"\"\"\n",
    "\n",
    "    async def run(self, msg: str):\n",
    "\n",
    "        prompt = self.PROMPT_TEMPLATE.format(msg = msg)\n",
    "\n",
    "        rsp = await self._aask(prompt)\n",
    "\n",
    "        return rsp\n",
    "\n",
    "class ReviewPoem(Action):\n",
    "\n",
    "    name: str = \"ReviewPoem\"\n",
    "\n",
    "    PROMPT_TEMPLATE: str = \"\"\"\n",
    "\n",
    "    Here is the historical conversation record : {msg} .\n",
    "    Check student-created poems about the subject provided by human and give your suggestions for revisions. You prefer poems with elegant sentences and retro style.\n",
    "    Return only your comments with NO other texts.\n",
    "    your comments:\n",
    "    \"\"\"\n",
    "\n",
    "    async def run(self, msg: str):\n",
    "\n",
    "        prompt = self.PROMPT_TEMPLATE.format(msg = msg)\n",
    "\n",
    "        rsp = await self._aask(prompt)\n",
    "\n",
    "        return rsp"
   ]
  },
  {
   "cell_type": "code",
   "execution_count": 19,
   "metadata": {},
   "outputs": [],
   "source": [
    "class Student(Role):\n",
    "\n",
    "    name: str = \"xiaoming\"\n",
    "    profile: str = \"Student\"\n",
    "\n",
    "    def __init__(self, **kwargs):\n",
    "        super().__init__(**kwargs)\n",
    "        self._init_actions([WritePoem])\n",
    "        self._watch([UserRequirement, ReviewPoem])\n",
    "\n",
    "    async def _act(self) -> Message:\n",
    "        logger.info(f\"{self._setting}: ready to {self.rc.todo}\")\n",
    "        todo = self.rc.todo\n",
    "\n",
    "        msg = self.get_memories()  # 获取所有记忆\n",
    "        # logger.info(msg)\n",
    "        poem_text = await WritePoem().run(msg)\n",
    "        logger.info(f'student : {poem_text}')\n",
    "        msg = Message(content=poem_text, role=self.profile,\n",
    "                      cause_by=type(todo))\n",
    "\n",
    "        return msg\n",
    "\n",
    "class Teacher(Role):\n",
    "\n",
    "    name: str = \"laowang\"\n",
    "    profile: str = \"Teacher\"\n",
    "\n",
    "    def __init__(self, **kwargs):\n",
    "        super().__init__(**kwargs)\n",
    "        self._init_actions([ReviewPoem])\n",
    "        self._watch([WritePoem])\n",
    "\n",
    "    async def _act(self) -> Message:\n",
    "        logger.info(f\"{self._setting}: ready to {self.rc.todo}\")\n",
    "        todo = self.rc.todo\n",
    "\n",
    "        msg = self.get_memories()  # 获取所有记忆\n",
    "        poem_text = await ReviewPoem().run(msg)\n",
    "        logger.info(f'teacher : {poem_text}')\n",
    "        msg = Message(content=poem_text, role=self.profile,\n",
    "                      cause_by=type(todo))\n",
    "\n",
    "        return msg\n"
   ]
  },
  {
   "cell_type": "code",
   "execution_count": null,
   "metadata": {},
   "outputs": [],
   "source": []
  },
  {
   "cell_type": "code",
   "execution_count": 20,
   "metadata": {},
   "outputs": [
    {
     "ename": "AttributeError",
     "evalue": "'Student' object has no attribute '_init_actions'",
     "output_type": "error",
     "traceback": [
      "\u001b[1;31m---------------------------------------------------------------------------\u001b[0m",
      "\u001b[1;31mKeyError\u001b[0m                                  Traceback (most recent call last)",
      "File \u001b[1;32mc:\\Users\\zata\\.conda\\envs\\aiagent\\lib\\site-packages\\pydantic\\main.py:759\u001b[0m, in \u001b[0;36mBaseModel.__getattr__\u001b[1;34m(self, item)\u001b[0m\n\u001b[0;32m    758\u001b[0m \u001b[38;5;28;01mtry\u001b[39;00m:\n\u001b[1;32m--> 759\u001b[0m     \u001b[38;5;28;01mreturn\u001b[39;00m \u001b[43mpydantic_extra\u001b[49m\u001b[43m[\u001b[49m\u001b[43mitem\u001b[49m\u001b[43m]\u001b[49m\n\u001b[0;32m    760\u001b[0m \u001b[38;5;28;01mexcept\u001b[39;00m \u001b[38;5;167;01mKeyError\u001b[39;00m \u001b[38;5;28;01mas\u001b[39;00m exc:\n",
      "\u001b[1;31mKeyError\u001b[0m: '_init_actions'",
      "\nThe above exception was the direct cause of the following exception:\n",
      "\u001b[1;31mAttributeError\u001b[0m                            Traceback (most recent call last)",
      "Cell \u001b[1;32mIn[20], line 19\u001b[0m\n\u001b[0;32m     16\u001b[0m         \u001b[38;5;28;01mawait\u001b[39;00m classroom\u001b[38;5;241m.\u001b[39mrun()\n\u001b[0;32m     17\u001b[0m     \u001b[38;5;28;01mreturn\u001b[39;00m classroom\u001b[38;5;241m.\u001b[39mhistory\n\u001b[1;32m---> 19\u001b[0m \u001b[38;5;28;01mawait\u001b[39;00m main(topic\u001b[38;5;241m=\u001b[39m\u001b[38;5;124m'\u001b[39m\u001b[38;5;124mwrite a poem about moon\u001b[39m\u001b[38;5;124m'\u001b[39m)\n\u001b[0;32m     20\u001b[0m \u001b[38;5;66;03m# asyncio.run(main(topic='wirte a poem about moon'))\u001b[39;00m\n\u001b[0;32m     21\u001b[0m \u001b[38;5;66;03m# main(topic='wirte a poem about moon')\u001b[39;00m\n\u001b[0;32m     22\u001b[0m \u001b[38;5;66;03m# asyncio.run(main(topic='wirte a poem about moon'))\u001b[39;00m\n",
      "Cell \u001b[1;32mIn[20], line 3\u001b[0m, in \u001b[0;36mmain\u001b[1;34m(topic, n_round)\u001b[0m\n\u001b[0;32m      1\u001b[0m \u001b[38;5;28;01masync\u001b[39;00m \u001b[38;5;28;01mdef\u001b[39;00m\u001b[38;5;250m \u001b[39m\u001b[38;5;21mmain\u001b[39m(topic: \u001b[38;5;28mstr\u001b[39m, n_round\u001b[38;5;241m=\u001b[39m\u001b[38;5;241m3\u001b[39m):\n\u001b[1;32m----> 3\u001b[0m     classroom\u001b[38;5;241m.\u001b[39madd_roles([Student(), Teacher()])\n\u001b[0;32m      5\u001b[0m     classroom\u001b[38;5;241m.\u001b[39mpublish_message(\n\u001b[0;32m      6\u001b[0m         Message(role\u001b[38;5;241m=\u001b[39m\u001b[38;5;124m\"\u001b[39m\u001b[38;5;124mHuman\u001b[39m\u001b[38;5;124m\"\u001b[39m, content\u001b[38;5;241m=\u001b[39mtopic, cause_by\u001b[38;5;241m=\u001b[39mUserRequirement,\n\u001b[0;32m      7\u001b[0m                 send_to\u001b[38;5;241m=\u001b[39m\u001b[38;5;124m'\u001b[39m\u001b[38;5;124m'\u001b[39m \u001b[38;5;129;01mor\u001b[39;00m MESSAGE_ROUTE_TO_ALL),\n\u001b[0;32m      8\u001b[0m         peekable\u001b[38;5;241m=\u001b[39m\u001b[38;5;28;01mFalse\u001b[39;00m,\n\u001b[0;32m      9\u001b[0m     )\n\u001b[0;32m     11\u001b[0m     \u001b[38;5;28;01mwhile\u001b[39;00m n_round \u001b[38;5;241m>\u001b[39m \u001b[38;5;241m0\u001b[39m:\n\u001b[0;32m     12\u001b[0m         \u001b[38;5;66;03m# self._save()\u001b[39;00m\n",
      "Cell \u001b[1;32mIn[19], line 8\u001b[0m, in \u001b[0;36mStudent.__init__\u001b[1;34m(self, **kwargs)\u001b[0m\n\u001b[0;32m      6\u001b[0m \u001b[38;5;28;01mdef\u001b[39;00m\u001b[38;5;250m \u001b[39m\u001b[38;5;21m__init__\u001b[39m(\u001b[38;5;28mself\u001b[39m, \u001b[38;5;241m*\u001b[39m\u001b[38;5;241m*\u001b[39mkwargs):\n\u001b[0;32m      7\u001b[0m     \u001b[38;5;28msuper\u001b[39m()\u001b[38;5;241m.\u001b[39m\u001b[38;5;21m__init__\u001b[39m(\u001b[38;5;241m*\u001b[39m\u001b[38;5;241m*\u001b[39mkwargs)\n\u001b[1;32m----> 8\u001b[0m     \u001b[38;5;28;43mself\u001b[39;49m\u001b[38;5;241;43m.\u001b[39;49m\u001b[43m_init_actions\u001b[49m([WritePoem])\n\u001b[0;32m      9\u001b[0m     \u001b[38;5;28mself\u001b[39m\u001b[38;5;241m.\u001b[39m_watch([UserRequirement, ReviewPoem])\n",
      "File \u001b[1;32mc:\\Users\\zata\\.conda\\envs\\aiagent\\lib\\site-packages\\pydantic\\main.py:761\u001b[0m, in \u001b[0;36mBaseModel.__getattr__\u001b[1;34m(self, item)\u001b[0m\n\u001b[0;32m    759\u001b[0m         \u001b[38;5;28;01mreturn\u001b[39;00m pydantic_extra[item]\n\u001b[0;32m    760\u001b[0m     \u001b[38;5;28;01mexcept\u001b[39;00m \u001b[38;5;167;01mKeyError\u001b[39;00m \u001b[38;5;28;01mas\u001b[39;00m exc:\n\u001b[1;32m--> 761\u001b[0m         \u001b[38;5;28;01mraise\u001b[39;00m \u001b[38;5;167;01mAttributeError\u001b[39;00m(\u001b[38;5;124mf\u001b[39m\u001b[38;5;124m'\u001b[39m\u001b[38;5;132;01m{\u001b[39;00m\u001b[38;5;28mtype\u001b[39m(\u001b[38;5;28mself\u001b[39m)\u001b[38;5;241m.\u001b[39m\u001b[38;5;18m__name__\u001b[39m\u001b[38;5;132;01m!r}\u001b[39;00m\u001b[38;5;124m object has no attribute \u001b[39m\u001b[38;5;132;01m{\u001b[39;00mitem\u001b[38;5;132;01m!r}\u001b[39;00m\u001b[38;5;124m'\u001b[39m) \u001b[38;5;28;01mfrom\u001b[39;00m\u001b[38;5;250m \u001b[39m\u001b[38;5;21;01mexc\u001b[39;00m\n\u001b[0;32m    762\u001b[0m \u001b[38;5;28;01melse\u001b[39;00m:\n\u001b[0;32m    763\u001b[0m     \u001b[38;5;28;01mif\u001b[39;00m \u001b[38;5;28mhasattr\u001b[39m(\u001b[38;5;28mself\u001b[39m\u001b[38;5;241m.\u001b[39m\u001b[38;5;18m__class__\u001b[39m, item):\n",
      "\u001b[1;31mAttributeError\u001b[0m: 'Student' object has no attribute '_init_actions'"
     ]
    }
   ],
   "source": [
    "async def main(topic: str, n_round=3):\n",
    "\n",
    "    classroom.add_roles([Student(), Teacher()])\n",
    "\n",
    "    classroom.publish_message(\n",
    "        Message(role=\"Human\", content=topic, cause_by=UserRequirement,\n",
    "                send_to='' or MESSAGE_ROUTE_TO_ALL),\n",
    "        peekable=False,\n",
    "    )\n",
    "\n",
    "    while n_round > 0:\n",
    "        # self._save()\n",
    "        n_round -= 1 #如果n_round = 1 ，就只有学生写诗、然后老师没办法进行review\n",
    "        logger.debug(f\"max {n_round=} left.\")\n",
    "\n",
    "        await classroom.run()\n",
    "    return classroom.history\n",
    "\n",
    "await main(topic='write a poem about moon')\n",
    "# asyncio.run(main(topic='wirte a poem about moon'))\n",
    "# main(topic='wirte a poem about moon')\n",
    "# asyncio.run(main(topic='wirte a poem about moon'))"
   ]
  },
  {
   "cell_type": "code",
   "execution_count": null,
   "metadata": {},
   "outputs": [],
   "source": []
  },
  {
   "cell_type": "code",
   "execution_count": null,
   "metadata": {},
   "outputs": [],
   "source": []
  }
 ],
 "metadata": {
  "kernelspec": {
   "display_name": "aiagent",
   "language": "python",
   "name": "python3"
  },
  "language_info": {
   "codemirror_mode": {
    "name": "ipython",
    "version": 3
   },
   "file_extension": ".py",
   "mimetype": "text/x-python",
   "name": "python",
   "nbconvert_exporter": "python",
   "pygments_lexer": "ipython3",
   "version": "3.10.16"
  }
 },
 "nbformat": 4,
 "nbformat_minor": 2
}
