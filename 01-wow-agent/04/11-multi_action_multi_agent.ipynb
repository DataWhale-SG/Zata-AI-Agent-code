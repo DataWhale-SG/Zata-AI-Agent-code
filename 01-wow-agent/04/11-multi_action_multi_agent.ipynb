{
 "cells": [
  {
   "cell_type": "code",
   "execution_count": 2,
   "metadata": {},
   "outputs": [],
   "source": [
    "import re\n",
    "\n",
    "import fire\n",
    "\n",
    "from metagpt.actions import Action, UserRequirement\n",
    "from metagpt.logs import logger\n",
    "from metagpt.roles import Role\n",
    "from metagpt.schema import Message\n",
    "from metagpt.team import Team\n",
    "\n",
    "\n",
    "def parse_code(rsp):\n",
    "    pattern = r\"```python(.*)```\"\n",
    "    match = re.search(pattern, rsp, re.DOTALL)\n",
    "    code_text = match.group(1) if match else rsp\n",
    "    return code_text"
   ]
  },
  {
   "cell_type": "code",
   "execution_count": 3,
   "metadata": {},
   "outputs": [],
   "source": [
    "class SimpleWriteCode(Action):\n",
    "    PROMPT_TEMPLATE: str = \"\"\"\n",
    "    Write a python function that can {instruction}.\n",
    "    Return ```python your_code_here ```with NO other texts,\n",
    "    your code:\n",
    "    \"\"\"\n",
    "    name: str = \"SimpleWriteCode\"\n",
    "\n",
    "    async def run(self, instruction: str):\n",
    "        prompt = self.PROMPT_TEMPLATE.format(instruction=instruction)\n",
    "\n",
    "        rsp = await self._aask(prompt)\n",
    "\n",
    "        code_text = parse_code(rsp)\n",
    "\n",
    "        return code_text"
   ]
  },
  {
   "cell_type": "code",
   "execution_count": 4,
   "metadata": {},
   "outputs": [],
   "source": [
    "class SimpleWriteTest(Action):\n",
    "    PROMPT_TEMPLATE: str = \"\"\"\n",
    "    Context: {context}\n",
    "    Write {k} unit tests using pytest for the given function, assuming you have imported it.\n",
    "    Return ```python your_code_here ```with NO other texts,\n",
    "    your code:\n",
    "    \"\"\"\n",
    "\n",
    "    name: str = \"SimpleWriteTest\"\n",
    "\n",
    "    async def run(self, context: str, k: int = 3):\n",
    "        prompt = self.PROMPT_TEMPLATE.format(context=context, k=k)\n",
    "\n",
    "        rsp = await self._aask(prompt)\n",
    "\n",
    "        code_text = parse_code(rsp)\n",
    "\n",
    "        return code_text"
   ]
  },
  {
   "cell_type": "code",
   "execution_count": 5,
   "metadata": {},
   "outputs": [],
   "source": [
    "class SimpleWriteReview(Action):\n",
    "    PROMPT_TEMPLATE: str = \"\"\"\n",
    "    Context: {context}\n",
    "    Review the test cases and provide one critical comments:\n",
    "    \"\"\"\n",
    "\n",
    "    name: str = \"SimpleWriteReview\"\n",
    "\n",
    "    async def run(self, context: str):\n",
    "        prompt = self.PROMPT_TEMPLATE.format(context=context)\n",
    "\n",
    "        rsp = await self._aask(prompt)\n",
    "\n",
    "        return rsp"
   ]
  },
  {
   "cell_type": "code",
   "execution_count": 6,
   "metadata": {},
   "outputs": [],
   "source": [
    "class SimpleCoder(Role):\n",
    "    name: str = \"Alice\"\n",
    "    profile: str = \"SimpleCoder\"\n",
    "\n",
    "    def __init__(self, **kwargs):\n",
    "        super().__init__(**kwargs)\n",
    "        self._watch([UserRequirement])\n",
    "        self.set_actions([SimpleWriteCode])"
   ]
  },
  {
   "cell_type": "code",
   "execution_count": 7,
   "metadata": {},
   "outputs": [],
   "source": [
    "class SimpleTester(Role):\n",
    "    name: str = \"Bob\"\n",
    "    profile: str = \"SimpleTester\"\n",
    "\n",
    "    def __init__(self, **kwargs):\n",
    "        super().__init__(**kwargs)\n",
    "        self.set_actions([SimpleWriteTest])\n",
    "        self._watch([SimpleWriteCode])\n",
    "        # self._watch([SimpleWriteCode, SimpleWriteReview])  # feel free to try this too\n",
    "\n",
    "    async def _act(self) -> Message:\n",
    "        logger.info(f\"{self._setting}: to do {self.rc.todo}({self.rc.todo.name})\")\n",
    "        todo = self.rc.todo\n",
    "\n",
    "        # context = self.get_memories(k=1)[0].content # use the most recent memory as context\n",
    "        context = self.get_memories()  # use all memories as context\n",
    "\n",
    "        code_text = await todo.run(context, k=5)  # specify arguments\n",
    "        msg = Message(content=code_text, role=self.profile, cause_by=type(todo))\n",
    "\n",
    "        return msg"
   ]
  },
  {
   "cell_type": "code",
   "execution_count": 8,
   "metadata": {},
   "outputs": [],
   "source": [
    "class SimpleReviewer(Role):\n",
    "    name: str = \"Charlie\"\n",
    "    profile: str = \"SimpleReviewer\"\n",
    "\n",
    "    def __init__(self, **kwargs):\n",
    "        super().__init__(**kwargs)\n",
    "        self.set_actions([SimpleWriteReview])\n",
    "        self._watch([SimpleWriteTest])"
   ]
  },
  {
   "cell_type": "code",
   "execution_count": 9,
   "metadata": {},
   "outputs": [
    {
     "ename": "SyntaxError",
     "evalue": "'await' outside async function (289559608.py, line 26)",
     "output_type": "error",
     "traceback": [
      "\u001b[1;36m  Cell \u001b[1;32mIn[9], line 26\u001b[1;36m\u001b[0m\n\u001b[1;33m    await team.run(n_round=n_round)\u001b[0m\n\u001b[1;37m    ^\u001b[0m\n\u001b[1;31mSyntaxError\u001b[0m\u001b[1;31m:\u001b[0m 'await' outside async function\n"
     ]
    }
   ],
   "source": [
    "import fire\n",
    "import typer\n",
    "from metagpt.logs import logger\n",
    "from metagpt.team import Team\n",
    "app = typer.Typer()\n",
    "\n",
    "@app.command()\n",
    "def main(\n",
    "    idea: str = typer.Argument(..., help=\"write a function that calculates the product of a list\"),\n",
    "    investment: float = typer.Option(default=3.0, help=\"Dollar amount to invest in the AI company.\"),\n",
    "    n_round: int = typer.Option(default=5, help=\"Number of rounds for the simulation.\"),\n",
    "):\n",
    "    logger.info(idea)\n",
    "\n",
    "    team = Team()\n",
    "    team.hire(\n",
    "        [\n",
    "            SimpleCoder(),\n",
    "            SimpleTester(),\n",
    "            SimpleReviewer(),\n",
    "        ]\n",
    "    )\n",
    "\n",
    "    team.invest(investment=investment)\n",
    "    team.run_project(idea)\n",
    "    await team.run(n_round=n_round)\n",
    "\n",
    "if __name__ == \"__main__\":\n",
    "    fire.Fire(main)"
   ]
  },
  {
   "cell_type": "code",
   "execution_count": null,
   "metadata": {},
   "outputs": [],
   "source": []
  }
 ],
 "metadata": {
  "kernelspec": {
   "display_name": "aiagent",
   "language": "python",
   "name": "python3"
  },
  "language_info": {
   "codemirror_mode": {
    "name": "ipython",
    "version": 3
   },
   "file_extension": ".py",
   "mimetype": "text/x-python",
   "name": "python",
   "nbconvert_exporter": "python",
   "pygments_lexer": "ipython3",
   "version": "3.10.16"
  }
 },
 "nbformat": 4,
 "nbformat_minor": 2
}
