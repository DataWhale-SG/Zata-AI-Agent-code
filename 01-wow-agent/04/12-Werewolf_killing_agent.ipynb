{
 "cells": [
  {
   "cell_type": "code",
   "execution_count": null,
   "metadata": {},
   "outputs": [],
   "source": [
    "class WerewolfGame(Team):\n",
    "    \"\"\"Use the \"software company paradigm\" to hold a werewolf game\"\"\"\n",
    "    env: Optional[WerewolfEnv] = None\n",
    "    def __init__(self, context: Context = None, **data: Any):\n",
    "        super(Team, self).__init__(**data)\n",
    "        ctx = context or Context()\n",
    "        if not self.env:\n",
    "            self.env = WerewolfEnv(context=ctx)\n",
    "        else:\n",
    "            self.env.context = ctx  # The `env` object is allocated by deserialization"
   ]
  },
  {
   "cell_type": "code",
   "execution_count": 1,
   "metadata": {},
   "outputs": [
    {
     "ename": "NameError",
     "evalue": "name 'WerewolfExtEnv' is not defined",
     "output_type": "error",
     "traceback": [
      "\u001b[1;31m---------------------------------------------------------------------------\u001b[0m",
      "\u001b[1;31mNameError\u001b[0m                                 Traceback (most recent call last)",
      "Cell \u001b[1;32mIn[1], line 1\u001b[0m\n\u001b[1;32m----> 1\u001b[0m \u001b[38;5;28;01mclass\u001b[39;00m\u001b[38;5;250m \u001b[39m\u001b[38;5;21;01mWerewolfEnv\u001b[39;00m(\u001b[43mWerewolfExtEnv\u001b[49m, Environment):\n\u001b[0;32m      2\u001b[0m     round_cnt: \u001b[38;5;28mint\u001b[39m \u001b[38;5;241m=\u001b[39m Field(default\u001b[38;5;241m=\u001b[39m\u001b[38;5;241m0\u001b[39m)\n\u001b[0;32m      3\u001b[0m \u001b[38;5;28;01mclass\u001b[39;00m\u001b[38;5;250m \u001b[39m\u001b[38;5;21;01mWerewolfExtEnv\u001b[39;00m(ExtEnv):\n",
      "\u001b[1;31mNameError\u001b[0m: name 'WerewolfExtEnv' is not defined"
     ]
    }
   ],
   "source": [
    "class WerewolfEnv(WerewolfExtEnv, Environment):\n",
    "    round_cnt: int = Field(default=0)\n",
    "class WerewolfExtEnv(ExtEnv):\n",
    "    model_config = ConfigDict(arbitrary_types_allowed=True)\n",
    "    players_state: dict[str, tuple[str, RoleState]] = Field(\n",
    "        default_factory=dict, description=\"the player's role type and state by player_name\"\n",
    "    )\n",
    "    round_idx: int = Field(default=0)  # the current round\n",
    "    step_idx: int = Field(default=0)  # the current step of current round\n",
    "    eval_step_idx: list[int] = Field(default=[])\n",
    "    per_round_steps: int = Field(default=len(STEP_INSTRUCTIONS))\n",
    "    # game global states\n",
    "    game_setup: str = Field(default=\"\", description=\"game setup including role and its num\")\n",
    "    special_role_players: list[str] = Field(default=[])\n",
    "    winner: Optional[str] = Field(default=None)\n",
    "    win_reason: Optional[str] = Field(default=None)\n",
    "    witch_poison_left: int = Field(default=1, description=\"should be 1 or 0\")\n",
    "    witch_antidote_left: int = Field(default=1, description=\"should be 1 or 0\")\n",
    "    # game current round states, a round is from closing your eyes to the next time you close your eyes\n",
    "    round_hunts: dict[str, str] = Field(default_factory=dict, description=\"nighttime wolf hunt result\")\n",
    "    round_votes: dict[str, str] = Field(\n",
    "        default_factory=dict, description=\"daytime all players vote result, key=voter, value=voted one\"\n",
    "    )\n",
    "    player_hunted: Optional[str] = Field(default=None)\n",
    "    player_protected: Optional[str] = Field(default=None)\n",
    "    is_hunted_player_saved: bool = Field(default=False)\n",
    "    player_poisoned: Optional[str] = Field(default=None)\n",
    "    player_current_dead: list[str] = Field(default=[])"
   ]
  },
  {
   "cell_type": "code",
   "execution_count": 2,
   "metadata": {},
   "outputs": [
    {
     "ename": "ModuleNotFoundError",
     "evalue": "No module named 'metagpt.ext'",
     "output_type": "error",
     "traceback": [
      "\u001b[1;31m---------------------------------------------------------------------------\u001b[0m",
      "\u001b[1;31mModuleNotFoundError\u001b[0m                       Traceback (most recent call last)",
      "Cell \u001b[1;32mIn[2], line 6\u001b[0m\n\u001b[0;32m      3\u001b[0m \u001b[38;5;28;01mimport\u001b[39;00m\u001b[38;5;250m \u001b[39m\u001b[38;5;21;01masyncio\u001b[39;00m\n\u001b[0;32m      4\u001b[0m \u001b[38;5;28;01mimport\u001b[39;00m\u001b[38;5;250m \u001b[39m\u001b[38;5;21;01mfire\u001b[39;00m\n\u001b[1;32m----> 6\u001b[0m \u001b[38;5;28;01mfrom\u001b[39;00m\u001b[38;5;250m \u001b[39m\u001b[38;5;21;01mmetagpt\u001b[39;00m\u001b[38;5;21;01m.\u001b[39;00m\u001b[38;5;21;01mext\u001b[39;00m\u001b[38;5;21;01m.\u001b[39;00m\u001b[38;5;21;01mwerewolf\u001b[39;00m\u001b[38;5;21;01m.\u001b[39;00m\u001b[38;5;21;01mroles\u001b[39;00m\u001b[38;5;250m \u001b[39m\u001b[38;5;28;01mimport\u001b[39;00m Guard, Moderator, Seer, Villager, Werewolf, Witch\u001b[38;5;66;03m#守卫 主持人 先知 村民 狼人 巫师\u001b[39;00m\n\u001b[0;32m      7\u001b[0m \u001b[38;5;28;01mfrom\u001b[39;00m\u001b[38;5;250m \u001b[39m\u001b[38;5;21;01mmetagpt\u001b[39;00m\u001b[38;5;21;01m.\u001b[39;00m\u001b[38;5;21;01mext\u001b[39;00m\u001b[38;5;21;01m.\u001b[39;00m\u001b[38;5;21;01mwerewolf\u001b[39;00m\u001b[38;5;21;01m.\u001b[39;00m\u001b[38;5;21;01mroles\u001b[39;00m\u001b[38;5;21;01m.\u001b[39;00m\u001b[38;5;21;01mhuman_player\u001b[39;00m\u001b[38;5;250m \u001b[39m\u001b[38;5;28;01mimport\u001b[39;00m prepare_human_player\n\u001b[0;32m      8\u001b[0m \u001b[38;5;28;01mfrom\u001b[39;00m\u001b[38;5;250m \u001b[39m\u001b[38;5;21;01mmetagpt\u001b[39;00m\u001b[38;5;21;01m.\u001b[39;00m\u001b[38;5;21;01mext\u001b[39;00m\u001b[38;5;21;01m.\u001b[39;00m\u001b[38;5;21;01mwerewolf\u001b[39;00m\u001b[38;5;21;01m.\u001b[39;00m\u001b[38;5;21;01mwerewolf_game\u001b[39;00m\u001b[38;5;250m \u001b[39m\u001b[38;5;28;01mimport\u001b[39;00m WerewolfGame\n",
      "\u001b[1;31mModuleNotFoundError\u001b[0m: No module named 'metagpt.ext'"
     ]
    }
   ],
   "source": [
    "##运行代码详情\n",
    "#导入角色和游戏相关依赖\n",
    "import asyncio\n",
    "import fire\n",
    "\n",
    "from metagpt.ext.werewolf.roles import Guard, Moderator, Seer, Villager, Werewolf, Witch#守卫 主持人 先知 村民 狼人 巫师\n",
    "from metagpt.ext.werewolf.roles.human_player import prepare_human_player\n",
    "from metagpt.ext.werewolf.werewolf_game import WerewolfGame\n",
    "from metagpt.logs import logger\n",
    "\n",
    "#由于MetaGPT是异步框架，使用asyncio启动游戏\n",
    "async def start_game(\n",
    "    investment: float = 20.0,\n",
    "    n_round: int = 5,#回合数，建议n_round值设置小一点\n",
    "    shuffle: bool = True,\n",
    "    add_human: bool = False,\n",
    "    use_reflection: bool = True,\n",
    "    use_experience: bool = False,\n",
    "    use_memory_selection: bool = False,\n",
    "    new_experience_version: str = \"\",\n",
    "):\n",
    "    game = WerewolfGame()\n",
    "    #初始化游戏设置\n",
    "    game_setup, players = game.env.init_game_setup(\n",
    "        role_uniq_objs=[Villager, Werewolf, Guard, Seer, Witch],#设置游戏玩家职业\n",
    "        num_werewolf=2,\n",
    "        num_villager=2,\n",
    "        shuffle=shuffle,#是否打乱职业顺序，默认打乱\n",
    "        add_human=add_human,#设置真人也参与游戏\n",
    "        use_reflection=use_reflection,#是否让智能体对对局信息反思，默认开启\n",
    "        use_experience=use_experience,#是否让智能体根据过去行为优化自身动作，默认关闭\n",
    "        use_memory_selection=use_memory_selection,\n",
    "        new_experience_version=new_experience_version,\n",
    "        prepare_human_player=prepare_human_player,\n",
    "    )\n",
    "    logger.info(f\"{game_setup}\")\n",
    "\n",
    "    players = [Moderator()] + players#主持人加入游戏\n",
    "    game.hire(players)\n",
    "    game.invest(investment)\n",
    "    game.run_project(game_setup)#主持人广播游戏情况\n",
    "    await game.run(n_round=n_round)\n",
    "\n",
    "\n",
    "def main(\n",
    "    investment: float = 20.0,\n",
    "    n_round: int = 5,#运行前建议将此处n_round修改小一点，否则对钱包不友好！！！\n",
    "    shuffle: bool = True,\n",
    "    add_human: bool = False,\n",
    "    use_reflection: bool = True,\n",
    "    use_experience: bool = False,\n",
    "    use_memory_selection: bool = False,\n",
    "    new_experience_version: str = \"\",\n",
    "):\n",
    "    asyncio.run(\n",
    "        start_game(\n",
    "            investment,\n",
    "            n_round,\n",
    "            shuffle,\n",
    "            add_human,\n",
    "            use_reflection,\n",
    "            use_experience,\n",
    "            use_memory_selection,\n",
    "            new_experience_version,\n",
    "        )\n",
    "    )\n",
    "\n",
    "\n",
    "if __name__ == \"__main__\":\n",
    "    fire.Fire(main)"
   ]
  },
  {
   "cell_type": "code",
   "execution_count": null,
   "metadata": {},
   "outputs": [],
   "source": []
  }
 ],
 "metadata": {
  "kernelspec": {
   "display_name": "aiagent",
   "language": "python",
   "name": "python3"
  },
  "language_info": {
   "codemirror_mode": {
    "name": "ipython",
    "version": 3
   },
   "file_extension": ".py",
   "mimetype": "text/x-python",
   "name": "python",
   "nbconvert_exporter": "python",
   "pygments_lexer": "ipython3",
   "version": "3.10.16"
  }
 },
 "nbformat": 4,
 "nbformat_minor": 2
}
