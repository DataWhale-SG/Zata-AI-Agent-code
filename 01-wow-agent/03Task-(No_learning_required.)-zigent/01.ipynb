{
 "cells": [
  {
   "cell_type": "markdown",
   "metadata": {},
   "source": [
    "# 初识 Zigent：构建你的又一个智能搜索代理"
   ]
  },
  {
   "cell_type": "markdown",
   "metadata": {},
   "source": [
    "## 基础参数配置"
   ]
  },
  {
   "cell_type": "code",
   "execution_count": null,
   "metadata": {},
   "outputs": [
    {
     "name": "stdout",
     "output_type": "stream",
     "text": [
      "9d9338dcf6dcc6d703614ba53fce2e26.AdQUvVowRBvlh1cR\n"
     ]
    }
   ],
   "source": [
    "import os\n",
    "from dotenv import load_dotenv\n",
    "# 加载环境变量\n",
    "load_dotenv() \n",
    "\n",
    "print(os.getenv('ZHIPU_API_KEY'))\n",
    "# 从环境变量中读取api_key\n",
    "api_key = os.getenv('ZHIPU_API_KEY')\n",
    "chat_model = \"glm-4-flash\"\n",
    "emb_model = \"embedding-2\"\n",
    "base_url = \"https://open.bigmodel.cn/api/paas/v4\"\n",
    "\n"
   ]
  },
  {
   "cell_type": "markdown",
   "metadata": {},
   "source": [
    "## 引入 zigent 相关的方法如Action、Agent、大模型配置等以及 duckduckgo_search ："
   ]
  },
  {
   "cell_type": "code",
   "execution_count": null,
   "metadata": {},
   "outputs": [],
   "source": []
  },
  {
   "cell_type": "code",
   "execution_count": 5,
   "metadata": {},
   "outputs": [],
   "source": [
    "from typing import List\n",
    "from zigent.agents import ABCAgent, BaseAgent\n",
    "from zigent.llm.agent_llms import LLM\n",
    "from zigent.commons import TaskPackage\n",
    "from zigent.actions.BaseAction import BaseAction\n",
    "# from zigent.logging.multi_agent_log import AgentLogger\n",
    "from duckduckgo_search import DDGS"
   ]
  },
  {
   "cell_type": "code",
   "execution_count": 8,
   "metadata": {},
   "outputs": [
    {
     "name": "stdout",
     "output_type": "stream",
     "text": [
      "我是一个名为 ChatGLM 的人工智能助手，是基于清华大学 KEG 实验室和智谱 AI 公司于 2024 年共同训练的语言模型开发的。我的任务是针对用户的问题和要求提供适当的答复和支持。\n"
     ]
    }
   ],
   "source": [
    "llm = LLM(api_key=api_key, base_url=base_url, model_name=chat_model)\n",
    "response = llm.run(\"你是谁？\")\n",
    "print(response)"
   ]
  },
  {
   "cell_type": "code",
   "execution_count": 9,
   "metadata": {},
   "outputs": [],
   "source": [
    "class DuckSearchAction(BaseAction):\n",
    "    def __init__(self) -> None:\n",
    "        action_name = \"DuckDuckGo_Search\"\n",
    "        action_desc = \"Using this action to search online content.\"\n",
    "        params_doc = {\"query\": \"the search string. be simple.\"}\n",
    "        self.ddgs = DDGS()\n",
    "        super().__init__(\n",
    "            action_name=action_name, \n",
    "            action_desc=action_desc, \n",
    "            params_doc=params_doc,\n",
    "        )\n",
    "\n",
    "    def __call__(self, query):\n",
    "        results = self.ddgs.chat(query)\n",
    "        return results"
   ]
  },
  {
   "cell_type": "code",
   "execution_count": 10,
   "metadata": {},
   "outputs": [
    {
     "name": "stdout",
     "output_type": "stream",
     "text": [
      "“Agent”这个词在不同的领域有不同的含义。以下是一些常见的解释：\n",
      "\n",
      "1. **一般意义**：在日常用语中，agent指的是一个代理人或代表，负责代表他人进行某种活动或决策。\n",
      "\n",
      "2. **计算机科学**：在人工智能和计算机科学中，agent通常指的是一种能够自主执行任务的程序或系统。例如，智能代理（intelligent agent）可以根据环境的变化做出决策和行动。\n",
      "\n",
      "3. **商业**：在商业领域，agent可以指代中介或代理商，他们代表公司或个人进行交易或谈判。\n",
      "\n",
      "4. **生物学**：在生物学中，agent可以指代某种能够引起生物反应的物质，如病原体或药物。\n",
      "\n",
      "5. **法律**：在法律上，agent是指被授权代表他人行事的人，通常涉及合同或法律事务。\n",
      "\n",
      "具体的含义取决于上下文。如果你有特定的领域或背景，请告诉我，我可以提供更详细的信息。\n"
     ]
    }
   ],
   "source": [
    "search_action = DuckSearchAction()\n",
    "results = search_action(\"什么是 agent\")\n",
    "print(results)"
   ]
  },
  {
   "cell_type": "code",
   "execution_count": 11,
   "metadata": {},
   "outputs": [],
   "source": [
    "class DuckSearchAgent(BaseAgent):\n",
    "    def __init__(\n",
    "        self,\n",
    "        llm: LLM,\n",
    "        actions: List[BaseAction] = [DuckSearchAction()],\n",
    "        manager: ABCAgent = None,\n",
    "        **kwargs\n",
    "    ):\n",
    "        name = \"duck_search_agent\"\n",
    "        role = \"You can answer questions by using duck duck go search content.\"\n",
    "        super().__init__(\n",
    "            name=name,\n",
    "            role=role,\n",
    "            llm=llm,\n",
    "            actions=actions,\n",
    "            manager=manager\n",
    "        )"
   ]
  },
  {
   "cell_type": "code",
   "execution_count": 12,
   "metadata": {},
   "outputs": [
    {
     "name": "stdout",
     "output_type": "stream",
     "text": [
      "Agent \u001b[94mduck_search_agent\u001b[0m receives the following \u001b[4mTaskPackage\u001b[0m:\n",
      "\u001b[96m[\n",
      "\tTask ID: 6ea83389-ff97-42d3-87b1-817aa4e3b835\n",
      "\tInstruction: what is the found date of microsoft\n",
      "]\u001b[0m\n",
      "====\u001b[94mduck_search_agent\u001b[0m starts execution on TaskPackage 6ea83389-ff97-42d3-87b1-817aa4e3b835====\n",
      "Agent \u001b[94mduck_search_agent\u001b[0m takes 0-step \u001b[4mAction\u001b[0m:\n",
      "\u001b[94m{\n",
      "\tname: DuckDuckGo_Search[{\"query\": \"found date of Microsoft\"}}\n",
      "\tparams: {}\n",
      "}\u001b[0m\n",
      "Observation: \u001b[92m\"This is the wrong action to call. Please check your available action list.\u001b[0m\n",
      "Agent \u001b[94mduck_search_agent\u001b[0m takes 1-step \u001b[4mAction\u001b[0m:\n",
      "\u001b[94m{\n",
      "\tname: Think\n",
      "\tparams: {'response': \"The correct action to use in this scenario is 'DuckDuckGo_Search' with the appropriate query to find the founding date of Microsoft.\"}\n",
      "}\u001b[0m\n",
      "Observation: \u001b[92mOK\u001b[0m\n",
      "Agent \u001b[94mduck_search_agent\u001b[0m takes 2-step \u001b[4mAction\u001b[0m:\n",
      "\u001b[94m{\n",
      "\tname: DuckDuckGo_Search\n",
      "\tparams: {'query': 'founding date of Microsoft'}\n",
      "}\u001b[0m\n",
      "Observation: \u001b[92mMicrosoft was founded on April 4, 1975.\u001b[0m\n",
      "Agent \u001b[94mduck_search_agent\u001b[0m takes 3-step \u001b[4mAction\u001b[0m:\n",
      "\u001b[94m{\n",
      "\tname: Finish\n",
      "\tparams: {'response': 'Microsoft was founded on April 4, 1975.'}\n",
      "}\u001b[0m\n",
      "Observation: \u001b[92mMicrosoft was founded on April 4, 1975.\u001b[0m\n",
      "=========\u001b[94mduck_search_agent\u001b[0m finish execution. TaskPackage[ID:6ea83389-ff97-42d3-87b1-817aa4e3b835] status:\n",
      "\u001b[96m[\n",
      "\tcompletion: completed\n",
      "\tanswer: Microsoft was founded on April 4, 1975.\n",
      "]\u001b[0m\n",
      "==========\n",
      "response: Microsoft was founded on April 4, 1975.\n"
     ]
    }
   ],
   "source": [
    "def do_search_agent():\n",
    "    # 创建代理实例\n",
    "    search_agent = DuckSearchAgent(llm=llm)\n",
    "\n",
    "    # 创建任务\n",
    "    task = \"what is the found date of microsoft\"\n",
    "    task_pack = TaskPackage(instruction=task)\n",
    "\n",
    "    # 执行任务并获取响应\n",
    "    response = search_agent(task_pack)\n",
    "    print(\"response:\", response)\n",
    "\n",
    "if __name__ == \"__main__\":\n",
    "    do_search_agent()"
   ]
  },
  {
   "cell_type": "markdown",
   "metadata": {},
   "source": [
    "# 使用智谱AI的web_search"
   ]
  },
  {
   "cell_type": "code",
   "execution_count": 13,
   "metadata": {},
   "outputs": [
    {
     "data": {
      "text/plain": [
       "'我是一个名为 ChatGLM 的人工智能助手，是基于清华大学 KEG 实验室和智谱 AI 公司于 2024 年共同训练的语言模型开发的。我的任务是针对用户的问题和要求提供适当的答复和支持。'"
      ]
     },
     "execution_count": 13,
     "metadata": {},
     "output_type": "execute_result"
    }
   ],
   "source": [
    "import os\n",
    "import json\n",
    "import requests\n",
    "from dotenv import load_dotenv\n",
    "from typing import List\n",
    "from zigent.agents import BaseAgent, ABCAgent\n",
    "from zigent.llm.agent_llms import LLM\n",
    "from zigent.commons import TaskPackage\n",
    "from zigent.actions.BaseAction import BaseAction\n",
    "from zhipuai import ZhipuAI\n",
    "from datetime import datetime\n",
    "\n",
    "# 加载环境变量\n",
    "load_dotenv()\n",
    "ZHIPU_API_KEY = os.getenv('ZHIPU_API_KEY')\n",
    "ZHIPU_BASE_URL = os.getenv('ZHIPU_BASE_URL')\n",
    "model_name = \"glm-4-flash\"\n",
    "llm = LLM(api_key=ZHIPU_API_KEY, base_url=ZHIPU_BASE_URL, model_name=model_name)\n",
    "llm.run(\"你谁\")"
   ]
  },
  {
   "cell_type": "code",
   "execution_count": 6,
   "metadata": {},
   "outputs": [],
   "source": [
    "# 定义Zhipu Web Search工具\n",
    "def zhipu_web_search_tool(query: str) -> str:\n",
    "    \"\"\"\n",
    "    使用智谱AI的GLM-4模型进行联网搜索，返回搜索结果的字符串。\n",
    "    \n",
    "    参数:\n",
    "    - query: 搜索关键词\n",
    "\n",
    "    返回:\n",
    "    - 搜索结果的字符串形式\n",
    "    \"\"\"\n",
    "    # 初始化客户端\n",
    "    client = ZhipuAI(api_key=ZHIPU_API_KEY)\n",
    "\n",
    "    # 获取当前日期\n",
    "    current_date = datetime.now().strftime(\"%Y-%m-%d\")\n",
    "\n",
    "    print(\"current_date:\", current_date)\n",
    "    \n",
    "    # 设置工具\n",
    "    tools = [{\n",
    "        \"type\": \"web_search\",\n",
    "        \"web_search\": {\n",
    "            \"enable\": True\n",
    "        }\n",
    "    }]\n",
    "\n",
    "    # 系统提示模板，包含时间信息\n",
    "    system_prompt = f\"\"\"你是一个具备网络访问能力的智能助手，在适当情况下，优先使用网络信息（参考信息）来回答，\n",
    "    以确保用户得到最新、准确的帮助。当前日期是 {current_date}。\"\"\"\n",
    "        \n",
    "    # 构建消息\n",
    "    messages = [\n",
    "        {\"role\": \"system\", \"content\": system_prompt},\n",
    "        {\"role\": \"user\", \"content\": query}\n",
    "    ]\n",
    "        \n",
    "    # 调用API\n",
    "    response = client.chat.completions.create(\n",
    "        model=\"glm-4-flash\",\n",
    "        messages=messages,\n",
    "        tools=tools\n",
    "    )\n",
    "    \n",
    "    # 返回结果\n",
    "    return response.choices[0].message.content"
   ]
  },
  {
   "cell_type": "code",
   "execution_count": 7,
   "metadata": {},
   "outputs": [],
   "source": [
    "class ZhipuSearchAction(BaseAction):\n",
    "    def __init__(self) -> None:\n",
    "        action_name = \"Zhipu_Search\"\n",
    "        action_desc = \"Using this action to search online content.\"\n",
    "        params_doc = {\"query\": \"the search string. be simple.\"}\n",
    "        super().__init__(\n",
    "            action_name=action_name,\n",
    "            action_desc=action_desc,\n",
    "            params_doc=params_doc,\n",
    "        )\n",
    "\n",
    "    def __call__(self, query):\n",
    "        results = zhipu_web_search_tool(query)\n",
    "        return results"
   ]
  },
  {
   "cell_type": "code",
   "execution_count": 8,
   "metadata": {},
   "outputs": [],
   "source": [
    "class ZhipuSearchAgent(BaseAgent):\n",
    "    def __init__(\n",
    "        self,\n",
    "        llm: LLM,\n",
    "        actions: List[BaseAction] = [ZhipuSearchAction()],\n",
    "        manager: ABCAgent = None,\n",
    "        **kwargs\n",
    "    ):\n",
    "        name = \"zhiu_search_agent\"\n",
    "        role = \"You can answer questions by using Zhipu search content.\"\n",
    "        super().__init__(\n",
    "            name=name,\n",
    "            role=role,\n",
    "            llm=llm,\n",
    "            actions=actions,\n",
    "            manager=manager,\n",
    "        )\n"
   ]
  },
  {
   "cell_type": "code",
   "execution_count": 14,
   "metadata": {},
   "outputs": [
    {
     "name": "stdout",
     "output_type": "stream",
     "text": [
      "Agent \u001b[94mzhiu_search_agent\u001b[0m receives the following \u001b[4mTaskPackage\u001b[0m:\n",
      "\u001b[96m[\n",
      "\tTask ID: fbb8bdf8-aef6-4d45-924b-8a8278d29f0b\n",
      "\tInstruction: 2025年洛杉矶大火\n",
      "]\u001b[0m\n",
      "====\u001b[94mzhiu_search_agent\u001b[0m starts execution on TaskPackage fbb8bdf8-aef6-4d45-924b-8a8278d29f0b====\n",
      "Agent \u001b[94mzhiu_search_agent\u001b[0m takes 0-step \u001b[4mAction\u001b[0m:\n",
      "\u001b[94m{\n",
      "\tname: Zhipu_Search\n",
      "\tparams: {'query': '2025年洛杉矶大火'}\n",
      "}\u001b[0m\n",
      "current_date: 2025-02-16\n",
      "Observation: \u001b[92m2025年洛杉矶大火是美国历史上最严重的自然灾害之一。这场大火发生在2025年1月初，起始于洛杉矶县太平洋帕利塞德地区的山区，随后迅速蔓延至多个区域，包括帕萨迪纳、圣费尔南多山谷以及沿海的马里布。火灾的原因主要是由于极端干燥的天气和强劲的圣安娜风，这两种因素共同导致了火势的迅速蔓延。\n",
      "\n",
      "火灾造成了巨大的损失，包括超过12,000公顷的土地被烧毁，至少12,000栋建筑被摧毁或无法居住。据报道，火灾导致了27人死亡，近10万居民流离失所。这场大火的总经济损失估计可能高达500亿美元，是2008年全美许多州房地产泡沫导致全球经济崩溃事件的数倍。\n",
      "\n",
      "这场火灾凸显了气候变化带来的严峻挑战，包括极端天气事件的频繁发生。随着气候变化的加剧，类似的大火可能会变得更加普遍和破坏性。此外，火灾也暴露了美国保险业在面对如此大规模灾害时的脆弱性，许多保险公司正在撤出在风险较高的地区的业务，导致保险供应紧张和保费上涨。\n",
      "\n",
      "在火灾发生之后，加利福尼亚州及其他受灾地区的居民面临了漫长的重建之路，同时政府如何支付巨额的赔付成为一个关键问题。此外，这场大火也引起了全球金融体系的关注，因为如果高风险地区的气候保险泡沫破裂，可能会引发类似于2008年金融危机的连锁反应。\n",
      "\n",
      "为了应对这样的自然灾害，专家呼吁采取更多的预防措施，包括改善植被管理、提高建筑物的防火标准，以及增强应急响应能力。\u001b[0m\n",
      "Agent \u001b[94mzhiu_search_agent\u001b[0m takes 1-step \u001b[4mAction\u001b[0m:\n",
      "\u001b[94m{\n",
      "\tname: Think\n",
      "\tparams: {'response': '为了回答这个问题，我需要通过Zhipu搜索引擎找到2025年洛杉矶大火的相关信息。然后，我将根据找到的信息来提供具体的答案。我注意到这场大火涉及的范围很广，包括火灾原因、造成的损失、对环境的影响以及应对措施等，因此我将重点关注这些方面。'}\n",
      "}\u001b[0m\n",
      "Observation: \u001b[92mOK\u001b[0m\n",
      "Agent \u001b[94mzhiu_search_agent\u001b[0m takes 2-step \u001b[4mAction\u001b[0m:\n",
      "\u001b[94m{\n",
      "\tname: Finish\n",
      "\tparams: {'response': '2025年洛杉矶大火是美国历史上最严重的自然灾害之一，造成了巨大的损失和影响。火灾主要由极端天气和风力导致，造成了严重的人员伤亡和财产损失。这场大火凸显了气候变化带来的挑战，并暴露了美国保险业的脆弱性。受灾地区的重建和赔付问题成为关键，同时也引起了全球金融体系的关注。专家建议采取更多预防措施应对此类自然灾害。'}\n",
      "}\u001b[0m\n",
      "Observation: \u001b[92m2025年洛杉矶大火是美国历史上最严重的自然灾害之一，造成了巨大的损失和影响。火灾主要由极端天气和风力导致，造成了严重的人员伤亡和财产损失。这场大火凸显了气候变化带来的挑战，并暴露了美国保险业的脆弱性。受灾地区的重建和赔付问题成为关键，同时也引起了全球金融体系的关注。专家建议采取更多预防措施应对此类自然灾害。\u001b[0m\n",
      "=========\u001b[94mzhiu_search_agent\u001b[0m finish execution. TaskPackage[ID:fbb8bdf8-aef6-4d45-924b-8a8278d29f0b] status:\n",
      "\u001b[96m[\n",
      "\tcompletion: completed\n",
      "\tanswer: 2025年洛杉矶大火是美国历史上最严重的自然灾害之一，造成了巨大的损失和影响。火灾主要由极端天气和风力导致，造成了严重的人员伤亡和财产损失。这场大火凸显了气候变化带来的挑战，并暴露了美国保险业的脆弱性。受灾地区的重建和赔付问题成为关键，同时也引起了全球金融体系的关注。专家建议采取更多预防措施应对此类自然灾害。\n",
      "]\u001b[0m\n",
      "==========\n",
      "2025年洛杉矶大火是美国历史上最严重的自然灾害之一，造成了巨大的损失和影响。火灾主要由极端天气和风力导致，造成了严重的人员伤亡和财产损失。这场大火凸显了气候变化带来的挑战，并暴露了美国保险业的脆弱性。受灾地区的重建和赔付问题成为关键，同时也引起了全球金融体系的关注。专家建议采取更多预防措施应对此类自然灾害。\n"
     ]
    }
   ],
   "source": [
    "def do_search_agent():\n",
    "    # 创建代理实例\n",
    "    search_agent = ZhipuSearchAgent(llm=llm)\n",
    "\n",
    "    # 创建任务\n",
    "    task = \"2025年洛杉矶大火\"\n",
    "    task_pack = TaskPackage(instruction=task)\n",
    "\n",
    "    # 执行任务并获取响应\n",
    "    response = search_agent(task_pack)\n",
    "    print(response)\n",
    "\n",
    "if __name__ == \"__main__\":\n",
    "    do_search_agent()"
   ]
  },
  {
   "cell_type": "code",
   "execution_count": null,
   "metadata": {},
   "outputs": [],
   "source": []
  }
 ],
 "metadata": {
  "kernelspec": {
   "display_name": "aiagent",
   "language": "python",
   "name": "python3"
  },
  "language_info": {
   "codemirror_mode": {
    "name": "ipython",
    "version": 3
   },
   "file_extension": ".py",
   "mimetype": "text/x-python",
   "name": "python",
   "nbconvert_exporter": "python",
   "pygments_lexer": "ipython3",
   "version": "3.10.16"
  }
 },
 "nbformat": 4,
 "nbformat_minor": 2
}
